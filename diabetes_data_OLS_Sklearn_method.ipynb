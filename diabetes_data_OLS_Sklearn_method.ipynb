{
 "cells": [
  {
   "cell_type": "code",
   "execution_count": 1,
   "metadata": {},
   "outputs": [],
   "source": [
    "import matplotlib.pylab as plt\n",
    "import numpy as np\n",
    "%matplotlib inline\n",
    "from sklearn.linear_model import LinearRegression\n",
    "from sklearn import datasets"
   ]
  },
  {
   "cell_type": "code",
   "execution_count": 2,
   "metadata": {},
   "outputs": [],
   "source": [
    "diabetes = datasets.load_diabetes() # load data\n"
   ]
  },
  {
   "cell_type": "code",
   "execution_count": 6,
   "metadata": {},
   "outputs": [
    {
     "data": {
      "text/plain": [
       "(442, 10)"
      ]
     },
     "execution_count": 6,
     "metadata": {},
     "output_type": "execute_result"
    }
   ],
   "source": [
    "diabetes.data.shape # feature matrix shape\n"
   ]
  },
  {
   "cell_type": "code",
   "execution_count": 7,
   "metadata": {},
   "outputs": [
    {
     "data": {
      "text/plain": [
       "['age', 'sex', 'bmi', 'bp', 's1', 's2', 's3', 's4', 's5', 's6']"
      ]
     },
     "execution_count": 7,
     "metadata": {},
     "output_type": "execute_result"
    }
   ],
   "source": [
    "diabetes.feature_names # column names\n"
   ]
  },
  {
   "cell_type": "code",
   "execution_count": 8,
   "metadata": {},
   "outputs": [],
   "source": [
    "# Sperate train and test data\n",
    "from sklearn.model_selection import train_test_split\n",
    "X_train, X_test, y_train, y_test = train_test_split(diabetes.data, diabetes.target, test_size=0.2, random_state=0)"
   ]
  },
  {
   "cell_type": "code",
   "execution_count": 10,
   "metadata": {
    "scrolled": true
   },
   "outputs": [
    {
     "data": {
      "text/plain": [
       "array([[ 0.01264814,  0.05068012,  0.00241654, ..., -0.03949338,\n",
       "         0.00371174,  0.07348023],\n",
       "       [-0.10722563, -0.04464164, -0.07734155, ..., -0.0763945 ,\n",
       "        -0.0425721 , -0.0052198 ],\n",
       "       [ 0.02717829,  0.05068012, -0.03530688, ..., -0.00259226,\n",
       "        -0.01495648, -0.05078298],\n",
       "       ...,\n",
       "       [ 0.05987114, -0.04464164, -0.02129532, ...,  0.07120998,\n",
       "         0.07912108,  0.13561183],\n",
       "       [-0.07816532, -0.04464164, -0.0730303 , ..., -0.03949338,\n",
       "        -0.01811827, -0.08391984],\n",
       "       [ 0.04170844,  0.05068012,  0.07139652, ...,  0.03430886,\n",
       "         0.07341008,  0.08590655]])"
      ]
     },
     "execution_count": 10,
     "metadata": {},
     "output_type": "execute_result"
    }
   ],
   "source": [
    "X_train"
   ]
  },
  {
   "cell_type": "code",
   "execution_count": 11,
   "metadata": {},
   "outputs": [
    {
     "data": {
      "text/plain": [
       "array([[ 0.01991321,  0.05068012,  0.10480869,  0.07007254, -0.03596778,\n",
       "        -0.0266789 , -0.02499266, -0.00259226,  0.00371174,  0.04034337],\n",
       "       [-0.01277963, -0.04464164,  0.06061839,  0.05285819,  0.04796534,\n",
       "         0.02937467, -0.01762938,  0.03430886,  0.0702113 ,  0.00720652],\n",
       "       [ 0.03807591,  0.05068012,  0.00888341,  0.04252958, -0.04284755,\n",
       "        -0.02104223, -0.03971921, -0.00259226, -0.01811827,  0.00720652],\n",
       "       [-0.01277963, -0.04464164, -0.02345095, -0.04009932, -0.01670444,\n",
       "         0.00463594, -0.01762938, -0.00259226, -0.03845911, -0.03835666],\n",
       "       [-0.02367725, -0.04464164,  0.04552903,  0.09072977, -0.01808039,\n",
       "        -0.03544706,  0.07072993, -0.03949338, -0.03452372, -0.00936191],\n",
       "       [-0.02004471, -0.04464164,  0.097264  , -0.00567061, -0.00569682,\n",
       "        -0.02386057, -0.02131102, -0.00259226,  0.06168585,  0.04034337],\n",
       "       [ 0.01628068, -0.04464164, -0.02884001, -0.00911348, -0.00432087,\n",
       "        -0.00976889,  0.04495846, -0.03949338, -0.03075121, -0.04249877],\n",
       "       [ 0.05987114,  0.05068012,  0.02289497,  0.04941532,  0.01631843,\n",
       "         0.01183836, -0.01394774, -0.00259226,  0.03953988,  0.01963284],\n",
       "       [-0.05273755, -0.04464164,  0.05415152, -0.02632783, -0.05523112,\n",
       "        -0.03388132, -0.01394774, -0.03949338, -0.07408887, -0.05906719],\n",
       "       [-0.03094232, -0.04464164,  0.04660684,  0.01498661, -0.01670444,\n",
       "        -0.04703355,  0.00077881, -0.00259226,  0.06345592, -0.02593034],\n",
       "       [ 0.00538306, -0.04464164, -0.05794093, -0.02288496, -0.0676147 ,\n",
       "        -0.06832765, -0.05444576, -0.00259226,  0.04289569, -0.08391984],\n",
       "       [ 0.03081083,  0.05068012,  0.04660684, -0.01599922,  0.02044629,\n",
       "         0.05066877, -0.0581274 ,  0.07120998,  0.00620932,  0.00720652],\n",
       "       [ 0.02354575,  0.05068012, -0.0374625 , -0.04698506, -0.0910059 ,\n",
       "        -0.07553006, -0.03235593, -0.03949338, -0.03075121, -0.01350402],\n",
       "       [-0.02004471, -0.04464164, -0.046085  , -0.09862812, -0.07587041,\n",
       "        -0.05987264, -0.01762938, -0.03949338, -0.05140054, -0.04664087],\n",
       "       [ 0.06350368,  0.05068012,  0.08864151,  0.07007254,  0.02044629,\n",
       "         0.03751653, -0.05076412,  0.07120998,  0.02930041,  0.07348023],\n",
       "       [-0.0854304 ,  0.05068012, -0.02237314,  0.00121513, -0.03734373,\n",
       "        -0.02636575,  0.01550536, -0.03949338, -0.07212845, -0.01764613],\n",
       "       [-0.06726771, -0.04464164, -0.05901875,  0.03220097, -0.05110326,\n",
       "        -0.04953874, -0.01026611, -0.03949338,  0.00200784,  0.02377494],\n",
       "       [-0.00188202, -0.04464164, -0.05147406, -0.02632783, -0.00844872,\n",
       "        -0.01916334,  0.07441156, -0.03949338, -0.06832974, -0.09220405],\n",
       "       [-0.09632802, -0.04464164, -0.08380842,  0.00810087, -0.10338947,\n",
       "        -0.09056119, -0.01394774, -0.0763945 , -0.06291295, -0.03421455],\n",
       "       [ 0.03081083, -0.04464164,  0.04013997,  0.07695829,  0.01769438,\n",
       "         0.03782968, -0.02867429,  0.03430886, -0.00149859,  0.1190434 ],\n",
       "       [-0.03094232,  0.05068012,  0.02828403,  0.07007254, -0.12678067,\n",
       "        -0.10684491, -0.05444576, -0.04798064, -0.03075121,  0.01549073],\n",
       "       [-0.00914709, -0.04464164,  0.01103904, -0.05731367, -0.02496016,\n",
       "        -0.04296262,  0.03023191, -0.03949338,  0.01703713, -0.0052198 ],\n",
       "       [ 0.05260606,  0.05068012, -0.02452876,  0.05630106, -0.00707277,\n",
       "        -0.00507166, -0.02131102, -0.00259226,  0.02671426, -0.03835666],\n",
       "       [ 0.00538306, -0.04464164,  0.05846277, -0.04354219, -0.07311851,\n",
       "        -0.07239858,  0.019187  , -0.0763945 , -0.05140054, -0.02593034],\n",
       "       [-0.07453279,  0.05068012,  0.05522933, -0.04009932,  0.05346915,\n",
       "         0.05317395, -0.04340085,  0.07120998,  0.06123791, -0.03421455],\n",
       "       [ 0.01628068, -0.04464164,  0.01750591, -0.02288496,  0.06034892,\n",
       "         0.0444058 ,  0.03023191, -0.00259226,  0.03723201, -0.0010777 ],\n",
       "       [ 0.04897352, -0.04464164, -0.04177375,  0.10450125,  0.03558177,\n",
       "        -0.02573946,  0.17749742, -0.0763945 , -0.01290794,  0.01549073],\n",
       "       [ 0.01628068, -0.04464164, -0.04500719, -0.05731367, -0.03459183,\n",
       "        -0.05392282,  0.07441156, -0.0763945 , -0.0425721 ,  0.04034337],\n",
       "       [ 0.01991321, -0.04464164,  0.00457217,  0.04597245, -0.01808039,\n",
       "        -0.05454912,  0.06336665, -0.03949338,  0.02866072,  0.06105391],\n",
       "       [ 0.00175052,  0.05068012,  0.02612841, -0.00911348,  0.02457414,\n",
       "         0.03845598, -0.02131102,  0.03430886,  0.00943641,  0.00306441],\n",
       "       [ 0.04534098,  0.05068012, -0.00297252,  0.10794412,  0.03558177,\n",
       "         0.02248541,  0.02655027, -0.00259226,  0.02801651,  0.01963284],\n",
       "       [-0.01641217, -0.04464164, -0.05255187, -0.03321358, -0.0442235 ,\n",
       "        -0.03638651,  0.019187  , -0.03949338, -0.06832974, -0.03007245],\n",
       "       [-0.07453279, -0.04464164, -0.0105172 , -0.00567061, -0.06623874,\n",
       "        -0.0570543 , -0.00290283, -0.03949338, -0.0425721 , -0.0010777 ],\n",
       "       [-0.10722563, -0.04464164, -0.01159501, -0.04009932,  0.0493413 ,\n",
       "         0.0644473 , -0.01394774,  0.03430886,  0.00702686, -0.03007245],\n",
       "       [ 0.04534098, -0.04464164, -0.00620595, -0.01599922,  0.1250187 ,\n",
       "         0.1251981 ,  0.019187  ,  0.03430886,  0.03243323, -0.0052198 ],\n",
       "       [ 0.01628068, -0.04464164,  0.02073935,  0.02187235, -0.01395254,\n",
       "        -0.01321352, -0.00658447, -0.00259226,  0.01331597,  0.04034337],\n",
       "       [-0.02367725, -0.04464164, -0.01590626, -0.01255635,  0.02044629,\n",
       "         0.04127431, -0.04340085,  0.03430886,  0.01407245, -0.00936191],\n",
       "       [ 0.03444337,  0.05068012, -0.00943939,  0.05974393, -0.03596778,\n",
       "        -0.00757685, -0.07653559,  0.07120998,  0.0110081 , -0.02178823],\n",
       "       [ 0.01628068, -0.04464164,  0.00133873,  0.00810087,  0.0053108 ,\n",
       "         0.01089891,  0.03023191, -0.03949338, -0.04542096,  0.03205916],\n",
       "       [ 0.01264814, -0.04464164,  0.03367309,  0.03334859,  0.03007796,\n",
       "         0.02718263, -0.00290283,  0.00884709,  0.03119299,  0.02791705],\n",
       "       [-0.01277963, -0.04464164, -0.06548562, -0.06993753,  0.00118295,\n",
       "         0.01684873, -0.00290283, -0.0070204 , -0.03075121, -0.05078298],\n",
       "       [-0.05637009,  0.05068012, -0.0105172 ,  0.02531523,  0.02319819,\n",
       "         0.04002172, -0.03971921,  0.03430886,  0.02061233,  0.0569118 ],\n",
       "       [ 0.02717829, -0.04464164, -0.00728377, -0.05042793,  0.0754844 ,\n",
       "         0.05661859,  0.03391355, -0.00259226,  0.04344317,  0.01549073],\n",
       "       [ 0.05260606, -0.04464164, -0.00405033, -0.03091833, -0.0469754 ,\n",
       "        -0.0583069 , -0.01394774, -0.02583997,  0.03605579,  0.02377494],\n",
       "       [ 0.0090156 ,  0.05068012,  0.03043966,  0.04252958, -0.00294491,\n",
       "         0.03689023, -0.06549067,  0.07120998, -0.02364456,  0.01549073],\n",
       "       [ 0.06713621, -0.04464164, -0.06117437, -0.04009932, -0.02633611,\n",
       "        -0.02448686,  0.03391355, -0.03949338, -0.05615757, -0.05906719],\n",
       "       [ 0.04534098, -0.04464164, -0.0191397 ,  0.02187235,  0.02732605,\n",
       "        -0.01352667,  0.10018303, -0.03949338,  0.01776348, -0.01350402],\n",
       "       [-0.04910502, -0.04464164,  0.0250506 ,  0.00810087,  0.02044629,\n",
       "         0.01778818,  0.05232174, -0.03949338, -0.04118039,  0.00720652],\n",
       "       [-0.00188202,  0.05068012, -0.03315126, -0.01829447,  0.03145391,\n",
       "         0.04284006, -0.01394774,  0.01991742,  0.01022564,  0.02791705],\n",
       "       [-0.00188202, -0.04464164,  0.03367309,  0.12515848,  0.02457414,\n",
       "         0.02624319, -0.01026611, -0.00259226,  0.02671426,  0.06105391],\n",
       "       [ 0.04170844,  0.05068012, -0.02237314,  0.0287581 , -0.06623874,\n",
       "        -0.04515466, -0.06180903, -0.00259226,  0.00286377, -0.05492509],\n",
       "       [-0.04547248,  0.05068012, -0.04716281, -0.01599922, -0.04009564,\n",
       "        -0.02480001,  0.00077881, -0.03949338, -0.06291295, -0.03835666],\n",
       "       [-0.02004471, -0.04464164,  0.01858372,  0.09072977,  0.00393485,\n",
       "         0.00870687,  0.03759519, -0.03949338, -0.05780007,  0.00720652],\n",
       "       [ 0.04534098,  0.05068012, -0.00836158, -0.03321358, -0.00707277,\n",
       "         0.00119131, -0.03971921,  0.03430886,  0.02993565,  0.02791705],\n",
       "       [-0.00551455, -0.04464164,  0.0433734 ,  0.0872869 ,  0.01356652,\n",
       "         0.00714113, -0.01394774, -0.00259226,  0.0423449 , -0.01764613],\n",
       "       [-0.05273755,  0.05068012, -0.01806189,  0.08040116,  0.08924393,\n",
       "         0.10766179, -0.03971921,  0.1081111 ,  0.03605579, -0.04249877],\n",
       "       [-0.02367725, -0.04464164,  0.03043966, -0.00567061,  0.08236416,\n",
       "         0.09200436, -0.01762938,  0.07120998,  0.03304707,  0.00306441],\n",
       "       [-0.07090025, -0.04464164, -0.00405033, -0.04009932, -0.06623874,\n",
       "        -0.07866155,  0.05232174, -0.0763945 , -0.05140054, -0.03421455],\n",
       "       [ 0.07076875, -0.04464164, -0.00512814, -0.00567061,  0.08786798,\n",
       "         0.10296456,  0.01182372,  0.03430886, -0.00894402,  0.02791705],\n",
       "       [ 0.04170844,  0.05068012,  0.01211685,  0.03908671,  0.05484511,\n",
       "         0.0444058 ,  0.00446045, -0.00259226,  0.04560081, -0.0010777 ],\n",
       "       [-0.04183994, -0.04464164,  0.04121778, -0.02632783, -0.03183992,\n",
       "        -0.03043668, -0.03603757,  0.00294291,  0.03365681, -0.01764613],\n",
       "       [-0.00551455, -0.04464164,  0.02397278,  0.00810087, -0.03459183,\n",
       "        -0.03889169,  0.02286863, -0.03949338, -0.01599827, -0.01350402],\n",
       "       [ 0.02717829, -0.04464164,  0.04984027, -0.05501842, -0.00294491,\n",
       "         0.04064802, -0.0581274 ,  0.05275942, -0.05295879, -0.0052198 ],\n",
       "       [ 0.01628068,  0.05068012, -0.02129532, -0.00911348,  0.03420581,\n",
       "         0.04785043,  0.00077881, -0.00259226, -0.01290794,  0.02377494],\n",
       "       [ 0.04897352, -0.04464164,  0.06061839, -0.02288496, -0.02358421,\n",
       "        -0.07271173, -0.04340085, -0.00259226,  0.10413761,  0.03620126],\n",
       "       [-0.09269548, -0.04464164,  0.02828403, -0.01599922,  0.03695772,\n",
       "         0.02499059,  0.05600338, -0.03949338, -0.00514531, -0.0010777 ],\n",
       "       [-0.00914709, -0.04464164, -0.06225218, -0.07452802, -0.02358421,\n",
       "        -0.01321352,  0.00446045, -0.03949338, -0.03581673, -0.04664087],\n",
       "       [-0.02730979, -0.04464164,  0.04768465, -0.04698506,  0.03420581,\n",
       "         0.05724488, -0.08021722,  0.13025177,  0.04506617,  0.13146972],\n",
       "       [-0.08179786,  0.05068012,  0.04229559, -0.01944209,  0.03970963,\n",
       "         0.05755803, -0.06917231,  0.1081111 ,  0.04718617, -0.03835666],\n",
       "       [-0.04547248, -0.04464164, -0.0730303 , -0.08141377,  0.08374012,\n",
       "         0.02780893,  0.17381578, -0.03949338, -0.00421986,  0.00306441],\n",
       "       [ 0.01264814, -0.04464164, -0.02560657, -0.04009932, -0.03046397,\n",
       "        -0.04515466,  0.0780932 , -0.0763945 , -0.07212845,  0.01134862],\n",
       "       [ 0.06350368,  0.05068012, -0.02560657,  0.01154374,  0.06447678,\n",
       "         0.04847673,  0.03023191, -0.00259226,  0.03839325,  0.01963284],\n",
       "       [ 0.03807591,  0.05068012, -0.02991782, -0.07452802, -0.01257658,\n",
       "        -0.01258722,  0.00446045, -0.00259226,  0.00371174, -0.03007245],\n",
       "       [ 0.06713621, -0.04464164,  0.03690653, -0.05042793, -0.02358421,\n",
       "        -0.03450761,  0.0486401 , -0.03949338, -0.02595242, -0.03835666],\n",
       "       [-0.03457486,  0.05068012,  0.00564998, -0.00567061, -0.07311851,\n",
       "        -0.06269098, -0.00658447, -0.03949338, -0.04542096,  0.03205916],\n",
       "       [-0.04547248,  0.05068012, -0.02452876,  0.05974393,  0.0053108 ,\n",
       "         0.01496984, -0.05444576,  0.07120998,  0.0423449 ,  0.01549073],\n",
       "       [-0.00551455,  0.05068012, -0.01590626, -0.06764228,  0.0493413 ,\n",
       "         0.07916528, -0.02867429,  0.03430886, -0.01811827,  0.04448548],\n",
       "       [-0.02730979,  0.05068012,  0.06061839,  0.04941532,  0.08511607,\n",
       "         0.08636769, -0.00290283,  0.03430886,  0.03781448,  0.04862759],\n",
       "       [ 0.04897352,  0.05068012,  0.08109682,  0.02187235,  0.04383748,\n",
       "         0.06413415, -0.05444576,  0.07120998,  0.03243323,  0.04862759],\n",
       "       [ 0.01264814, -0.04464164,  0.02612841,  0.0631868 ,  0.1250187 ,\n",
       "         0.09169122,  0.06336665, -0.00259226,  0.05757286, -0.02178823],\n",
       "       [ 0.00538306, -0.04464164, -0.00297252,  0.04941532,  0.07410845,\n",
       "         0.07071027,  0.04495846, -0.00259226, -0.00149859, -0.00936191],\n",
       "       [ 0.0562386 ,  0.05068012,  0.00996123,  0.04941532, -0.00432087,\n",
       "        -0.01227407, -0.04340085,  0.03430886,  0.06078775,  0.03205916],\n",
       "       [ 0.02354575,  0.05068012, -0.02021751, -0.03665645, -0.01395254,\n",
       "        -0.01509241,  0.05968501, -0.03949338, -0.09643322, -0.01764613],\n",
       "       [ 0.01991321,  0.05068012,  0.01427248,  0.0631868 ,  0.01494247,\n",
       "         0.02029337, -0.04708248,  0.03430886,  0.04666077,  0.09004865],\n",
       "       [-0.07090025,  0.05068012, -0.08919748, -0.07452802, -0.04284755,\n",
       "        -0.02573946, -0.03235593, -0.00259226, -0.01290794, -0.05492509],\n",
       "       [ 0.00175052, -0.04464164, -0.07087468, -0.02288496, -0.00156896,\n",
       "        -0.00100073,  0.02655027, -0.03949338, -0.02251217,  0.00720652],\n",
       "       [-0.07453279, -0.04464164,  0.0433734 , -0.03321358,  0.01219057,\n",
       "         0.00025186,  0.06336665, -0.03949338, -0.02712865, -0.04664087],\n",
       "       [-0.04183994,  0.05068012,  0.01427248, -0.00567061, -0.01257658,\n",
       "         0.00620169, -0.07285395,  0.07120998,  0.03546194, -0.01350402],\n",
       "       [-0.05273755, -0.04464164, -0.00943939, -0.00567061,  0.03970963,\n",
       "         0.04471895,  0.02655027, -0.00259226, -0.01811827, -0.01350402]])"
      ]
     },
     "execution_count": 11,
     "metadata": {},
     "output_type": "execute_result"
    }
   ],
   "source": [
    "X_test"
   ]
  },
  {
   "cell_type": "code",
   "execution_count": 12,
   "metadata": {},
   "outputs": [
    {
     "data": {
      "text/plain": [
       "array([ 85., 137.,  53.,  51., 197., 135.,  72., 208., 237., 145., 110.,\n",
       "       292.,  97., 197., 158., 163.,  63., 192., 233.,  68., 160., 178.,\n",
       "        68., 109.,  94., 118., 275., 275., 127., 281.,  71.,  42.,  71.,\n",
       "       128., 272., 135.,  51., 220., 167.,  78., 131., 212., 182., 174.,\n",
       "       259.,  77.,  91., 310.,  84., 134., 102., 128., 306., 245., 201.,\n",
       "       183., 111.,  96., 125., 182., 177.,  48.,  97., 259., 288., 242.,\n",
       "        69.,  31., 154., 150.,  52., 261., 118., 102., 139.,  51.,  58.,\n",
       "       144., 178.,  97.,  78., 129., 258., 124., 198., 185.,  66., 237.,\n",
       "       178., 275., 268., 242., 200., 214., 246., 236.,  85., 114.,  93.,\n",
       "        99.,  72., 270., 111.,  83.,  87.,  42., 172.,  65., 259., 279.,\n",
       "       141., 144., 220.,  90., 101.,  53.,  67.,  72., 121., 303., 232.,\n",
       "       140., 190., 221.,  71., 116., 111., 280., 233.,  78., 150., 283.,\n",
       "        64., 140.,  65., 225., 206.,  63., 296., 173.,  85., 141.,  50.,\n",
       "        25., 153.,  55., 139., 336.,  73.,  95., 109.,  44., 180., 263.,\n",
       "       148.,  79.,  65., 102., 220., 277., 246., 200., 262., 191.,  97.,\n",
       "       184.,  85., 248., 150., 268.,  59.,  70.,  88., 100., 190., 113.,\n",
       "        66., 243., 185., 262.,  48., 160., 217., 210., 132., 257., 104.,\n",
       "       126., 292., 166.,  83.,  81., 144., 281.,  72.,  39., 109.,  60.,\n",
       "       258., 178., 168.,  87.,  77., 216., 206., 142., 161., 265.,  60.,\n",
       "       200., 265., 272., 146.,  94.,  55.,  69., 138., 258., 143., 172.,\n",
       "        89.,  69., 199.,  55.,  45., 265.,  91., 170.,  55., 202., 155.,\n",
       "        77.,  77.,  71., 123.,  84., 252.,  52.,  40., 274., 143., 245.,\n",
       "        92., 151.,  39., 235.,  92., 253.,  94.,  81., 346.,  90., 181.,\n",
       "       162., 277., 152., 178., 124.,  75., 263., 202., 200., 108.,  96.,\n",
       "        60.,  72., 107.,  54., 158., 152., 220., 308., 249., 222.,  65.,\n",
       "       173.,  88.,  72., 164.,  52., 115., 200.,  90., 248.,  37., 230.,\n",
       "        63., 273.,  61.,  53., 189., 241., 118., 252., 104., 219., 115.,\n",
       "       332., 131., 185.,  63., 131.,  88., 187., 196.,  59., 341., 109.,\n",
       "       101., 113.,  80., 242., 168., 128., 233., 209., 225.,  83., 214.,\n",
       "        96., 129.,  47., 229., 293.,  74., 202., 164., 202.,  59.,  91.,\n",
       "       120., 151., 310.,  90., 116., 147.,  43.,  42.,  48., 134.,  84.,\n",
       "        71.,  64.,  70., 310., 311., 122., 243., 248.,  91., 281., 142.,\n",
       "       295.])"
      ]
     },
     "execution_count": 12,
     "metadata": {},
     "output_type": "execute_result"
    }
   ],
   "source": [
    "y_train"
   ]
  },
  {
   "cell_type": "code",
   "execution_count": 13,
   "metadata": {},
   "outputs": [
    {
     "data": {
      "text/plain": [
       "array([ 85., 137.,  53.,  51., 197., 135.,  72., 208., 237., 145., 110.,\n",
       "       292.,  97., 197., 158., 163.,  63., 192., 233.,  68., 160., 178.,\n",
       "        68., 109.,  94., 118., 275., 275., 127., 281.,  71.,  42.,  71.,\n",
       "       128., 272., 135.,  51., 220., 167.,  78., 131., 212., 182., 174.,\n",
       "       259.,  77.,  91., 310.,  84., 134., 102., 128., 306., 245., 201.,\n",
       "       183., 111.,  96., 125., 182., 177.,  48.,  97., 259., 288., 242.,\n",
       "        69.,  31., 154., 150.,  52., 261., 118., 102., 139.,  51.,  58.,\n",
       "       144., 178.,  97.,  78., 129., 258., 124., 198., 185.,  66., 237.,\n",
       "       178., 275., 268., 242., 200., 214., 246., 236.,  85., 114.,  93.,\n",
       "        99.,  72., 270., 111.,  83.,  87.,  42., 172.,  65., 259., 279.,\n",
       "       141., 144., 220.,  90., 101.,  53.,  67.,  72., 121., 303., 232.,\n",
       "       140., 190., 221.,  71., 116., 111., 280., 233.,  78., 150., 283.,\n",
       "        64., 140.,  65., 225., 206.,  63., 296., 173.,  85., 141.,  50.,\n",
       "        25., 153.,  55., 139., 336.,  73.,  95., 109.,  44., 180., 263.,\n",
       "       148.,  79.,  65., 102., 220., 277., 246., 200., 262., 191.,  97.,\n",
       "       184.,  85., 248., 150., 268.,  59.,  70.,  88., 100., 190., 113.,\n",
       "        66., 243., 185., 262.,  48., 160., 217., 210., 132., 257., 104.,\n",
       "       126., 292., 166.,  83.,  81., 144., 281.,  72.,  39., 109.,  60.,\n",
       "       258., 178., 168.,  87.,  77., 216., 206., 142., 161., 265.,  60.,\n",
       "       200., 265., 272., 146.,  94.,  55.,  69., 138., 258., 143., 172.,\n",
       "        89.,  69., 199.,  55.,  45., 265.,  91., 170.,  55., 202., 155.,\n",
       "        77.,  77.,  71., 123.,  84., 252.,  52.,  40., 274., 143., 245.,\n",
       "        92., 151.,  39., 235.,  92., 253.,  94.,  81., 346.,  90., 181.,\n",
       "       162., 277., 152., 178., 124.,  75., 263., 202., 200., 108.,  96.,\n",
       "        60.,  72., 107.,  54., 158., 152., 220., 308., 249., 222.,  65.,\n",
       "       173.,  88.,  72., 164.,  52., 115., 200.,  90., 248.,  37., 230.,\n",
       "        63., 273.,  61.,  53., 189., 241., 118., 252., 104., 219., 115.,\n",
       "       332., 131., 185.,  63., 131.,  88., 187., 196.,  59., 341., 109.,\n",
       "       101., 113.,  80., 242., 168., 128., 233., 209., 225.,  83., 214.,\n",
       "        96., 129.,  47., 229., 293.,  74., 202., 164., 202.,  59.,  91.,\n",
       "       120., 151., 310.,  90., 116., 147.,  43.,  42.,  48., 134.,  84.,\n",
       "        71.,  64.,  70., 310., 311., 122., 243., 248.,  91., 281., 142.,\n",
       "       295.])"
      ]
     },
     "execution_count": 13,
     "metadata": {},
     "output_type": "execute_result"
    }
   ],
   "source": [
    "y_train"
   ]
  },
  {
   "cell_type": "code",
   "execution_count": 14,
   "metadata": {},
   "outputs": [],
   "source": [
    "from sklearn.model_selection import train_test_split\n",
    "X_train, X_test, y_train, y_test = train_test_split(diabetes.data, diabetes.target, test_size=0.2, random_state=0)"
   ]
  },
  {
   "cell_type": "code",
   "execution_count": 15,
   "metadata": {},
   "outputs": [],
   "source": [
    "model = LinearRegression()\n"
   ]
  },
  {
   "cell_type": "code",
   "execution_count": 16,
   "metadata": {},
   "outputs": [
    {
     "data": {
      "text/plain": [
       "LinearRegression(copy_X=True, fit_intercept=True, n_jobs=None,\n",
       "         normalize=False)"
      ]
     },
     "execution_count": 16,
     "metadata": {},
     "output_type": "execute_result"
    }
   ],
   "source": [
    "model.fit(X_train, y_train)\n"
   ]
  },
  {
   "cell_type": "code",
   "execution_count": 17,
   "metadata": {},
   "outputs": [
    {
     "data": {
      "text/plain": [
       "0.33222203269065154"
      ]
     },
     "execution_count": 17,
     "metadata": {},
     "output_type": "execute_result"
    }
   ],
   "source": [
    "model.score(X_test, y_test)\n"
   ]
  },
  {
   "cell_type": "code",
   "execution_count": 18,
   "metadata": {},
   "outputs": [
    {
     "data": {
      "text/plain": [
       "array([ -35.55683674, -243.1692265 ,  562.75404632,  305.47203008,\n",
       "       -662.78772128,  324.27527477,   24.78193291,  170.33056502,\n",
       "        731.67810787,   43.02846824])"
      ]
     },
     "execution_count": 18,
     "metadata": {},
     "output_type": "execute_result"
    }
   ],
   "source": [
    "model.coef_ # Get the coefficients, beta"
   ]
  },
  {
   "cell_type": "code",
   "execution_count": 19,
   "metadata": {},
   "outputs": [
    {
     "data": {
      "text/plain": [
       "152.5381335195406"
      ]
     },
     "execution_count": 19,
     "metadata": {},
     "output_type": "execute_result"
    }
   ],
   "source": [
    "model.intercept_ # Get the intercept, c\n"
   ]
  },
  {
   "cell_type": "code",
   "execution_count": 20,
   "metadata": {},
   "outputs": [
    {
     "data": {
      "text/plain": [
       "array([238.47145247, 248.93170646, 164.05404165, 120.30794355,\n",
       "       187.42422054, 259.04865002, 113.55556372, 188.07597044,\n",
       "       149.49663441, 236.01099949, 172.24629506, 178.88073764,\n",
       "       109.15751983,  92.13508975, 243.33042043,  87.356971  ,\n",
       "       155.72606406,  66.99073989, 100.42610442, 218.09422877,\n",
       "       196.66287912, 161.29832968, 161.70779605, 156.52520454,\n",
       "       197.88796516, 167.57984206, 120.74478913,  84.83879727,\n",
       "       192.03728687, 160.60687024, 175.17178362,  84.22833237,\n",
       "       145.7995542 , 145.97333493, 140.96488953, 197.00421108,\n",
       "       165.94322494, 190.65906468, 128.22520508, 206.41941223,\n",
       "        84.35851196, 164.0256504 , 144.1056776 , 184.68355549,\n",
       "       177.80238966,  74.32855231, 143.3660286 , 138.67726085,\n",
       "       120.81146113, 234.34252077, 161.94390244,  74.5455476 ,\n",
       "       154.71905074, 156.78884927, 237.42227096, 174.23053048,\n",
       "       190.88212635, 118.98373473, 132.20418974, 168.52674824,\n",
       "       214.74245466, 171.42364091, 157.37409906, 108.86927343,\n",
       "       257.06329636, 152.17777143,  82.43686464, 231.56746032,\n",
       "       202.90641336,  47.18340199,  78.46954525, 129.30170908,\n",
       "       104.60253144, 144.65200281, 132.27974254, 190.04134164,\n",
       "        97.55541138, 197.51891007, 219.13709291, 186.13797012,\n",
       "       149.60913007, 208.42379455,  44.59036026, 206.20925368,\n",
       "        76.77377721,  94.94046865, 145.2955051 , 194.03776373,\n",
       "       132.78534336])"
      ]
     },
     "execution_count": 20,
     "metadata": {},
     "output_type": "execute_result"
    }
   ],
   "source": [
    "model.predict(X_test) # Predict unkown data\n"
   ]
  },
  {
   "cell_type": "code",
   "execution_count": 24,
   "metadata": {},
   "outputs": [
    {
     "data": {
      "text/plain": [
       "<matplotlib.collections.PathCollection at 0x2374b0d1860>"
      ]
     },
     "execution_count": 24,
     "metadata": {},
     "output_type": "execute_result"
    },
    {
     "data": {
      "image/png": "[encoded data removed]",
      "text/plain": [
       "<Figure size 432x288 with 1 Axes>"
      ]
     },
     "metadata": {
      "needs_background": "light"
     },
     "output_type": "display_data"
    }
   ],
   "source": [
    "y_pred = model.predict(X_test) \n",
    "# Ploting Line\n",
    "plt.plot(y_test, y_pred, '.')\n",
    "# Ploting Scatter Points\n",
    "plt.scatter(x, y, c='#ef5423', label='Scatter Plot')"
   ]
  },
  {
   "cell_type": "code",
   "execution_count": null,
   "metadata": {},
   "outputs": [],
   "source": []
  }
 ],
 "metadata": {
  "kernelspec": {
   "display_name": "Python 3",
   "language": "python",
   "name": "python3"
  },
  "language_info": {
   "codemirror_mode": {
    "name": "ipython",
    "version": 3
   },
   "file_extension": ".py",
   "mimetype": "text/x-python",
   "name": "python",
   "nbconvert_exporter": "python",
   "pygments_lexer": "ipython3",
   "version": "3.6.7"
  }
 },
 "nbformat": 4,
 "nbformat_minor": 2
}
