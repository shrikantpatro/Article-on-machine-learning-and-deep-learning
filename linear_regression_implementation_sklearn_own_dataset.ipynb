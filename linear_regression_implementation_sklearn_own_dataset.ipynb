{
 "cells": [
  {
   "cell_type": "code",
   "execution_count": 6,
   "metadata": {},
   "outputs": [],
   "source": [
    "import pandas as pd\n",
    "from sklearn import datasets, linear_model\n",
    "from sklearn.model_selection import train_test_split\n",
    "from matplotlib import pyplot as plt"
   ]
  },
  {
   "cell_type": "code",
   "execution_count": 7,
   "metadata": {},
   "outputs": [],
   "source": [
    "f_data=pd.read_csv(r\"C:\\Users\\shrikant\\Desktop\\content\\SEM2\\Machine Learning\\LAB\\Dataset\\Blood Transfusion Service Center.csv\")"
   ]
  },
  {
   "cell_type": "code",
   "execution_count": 16,
   "metadata": {},
   "outputs": [],
   "source": [
    "#df = pd.DataFrame(diabetes.data, columns=columns) # load the dataset as a pandas data frame\n",
    "y = f_data['Time (months)'] # define the target variable (dependent variable) as y"
   ]
  },
  {
   "cell_type": "code",
   "execution_count": 17,
   "metadata": {},
   "outputs": [
    {
     "name": "stdout",
     "output_type": "stream",
     "text": [
      "(598, 5)\n",
      "(598,)\n",
      "(150, 5)\n",
      "(150,)\n"
     ]
    }
   ],
   "source": [
    "# create training and testing vars\n",
    "X_train, X_test, y_train, y_test = train_test_split(f_data, y, test_size=0.2)\n",
    "print(X_train.shape)\n",
    "print(y_train.shape)\n",
    "print(X_test.shape)\n",
    "print(y_test.shape)"
   ]
  },
  {
   "cell_type": "code",
   "execution_count": 18,
   "metadata": {},
   "outputs": [],
   "source": [
    "lm = linear_model.LinearRegression()\n",
    "model = lm.fit(X_train, y_train)\n",
    "predictions = lm.predict(X_test)"
   ]
  },
  {
   "cell_type": "code",
   "execution_count": 19,
   "metadata": {},
   "outputs": [
    {
     "name": "stdout",
     "output_type": "stream",
     "text": [
      "[35. 11. 52. 26.  2. 26.  2. 28. 41. 14. 16. 40. 47. 13. 51. 70. 22.  4.\n",
      " 46. 26. 77. 52.  9. 40. 23. 58. 21. 28. 16. 23.  4.  4. 16. 36. 33. 46.\n",
      " 16. 19. 40. 89. 58. 39.  2. 21. 98. 47. 29. 23.  2. 16. 52. 26. 98. 26.\n",
      " 57. 14. 32. 51. 14. 61.  2. 41.  2.  4. 70. 38. 64. 73. 98. 43. 33. 16.\n",
      " 26. 14. 26. 26. 30. 11. 45.  2. 19. 18. 77.  4. 38. 46. 57. 72. 14. 64.\n",
      " 79. 28. 21. 28. 35. 26. 74. 59. 47. 38. 23. 71. 40. 26. 52. 41. 64. 35.\n",
      "  2. 28. 16. 16. 52. 51. 59. 70. 16. 81. 23. 23. 28. 75. 41. 47. 78. 70.\n",
      " 40. 38. 43.  2. 21. 47.  2. 86. 46. 52. 28. 75. 88.  4. 14. 86. 76.  2.\n",
      " 53. 38. 16. 35. 28. 34.]\n"
     ]
    }
   ],
   "source": [
    "print(predictions)"
   ]
  },
  {
   "cell_type": "code",
   "execution_count": 21,
   "metadata": {},
   "outputs": [
    {
     "data": {
      "text/plain": [
       "[<matplotlib.lines.Line2D at 0x1f9ec1a4438>]"
      ]
     },
     "execution_count": 21,
     "metadata": {},
     "output_type": "execute_result"
    },
    {
     "data": {
      "image/png": "[encoded data removed]",
      "text/plain": [
       "<Figure size 432x288 with 1 Axes>"
      ]
     },
     "metadata": {
      "needs_background": "light"
     },
     "output_type": "display_data"
    }
   ],
   "source": [
    "## The line / model\n",
    "plt.scatter(y_test, predictions)\n",
    "plt.plot(y_test, predictions)\n",
    "#plt.xlabel(“True Values”)\n",
    "#plt.ylabel(“Predictions”)"
   ]
  },
  {
   "cell_type": "code",
   "execution_count": null,
   "metadata": {},
   "outputs": [],
   "source": []
  }
 ],
 "metadata": {
  "kernelspec": {
   "display_name": "Python 3",
   "language": "python",
   "name": "python3"
  },
  "language_info": {
   "codemirror_mode": {
    "name": "ipython",
    "version": 3
   },
   "file_extension": ".py",
   "mimetype": "text/x-python",
   "name": "python",
   "nbconvert_exporter": "python",
   "pygments_lexer": "ipython3",
   "version": "3.6.7"
  }
 },
 "nbformat": 4,
 "nbformat_minor": 2
}
